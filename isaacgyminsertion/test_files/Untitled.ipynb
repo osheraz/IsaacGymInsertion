{
 "cells": [
  {
   "cell_type": "code",
   "execution_count": 24,
   "id": "a8517819-e3ec-4007-989d-e4cc86da007c",
   "metadata": {},
   "outputs": [],
   "source": [
    "import numpy as np\n",
    "from glob import glob\n",
    "import os"
   ]
  },
  {
   "cell_type": "code",
   "execution_count": 5,
   "id": "85e25589-d6aa-4dc1-926e-1ebf43e49a91",
   "metadata": {},
   "outputs": [],
   "source": [
    "data_folders = glob('/common/users/dm1487/isaacgym_new/python/IsaacGymInsertion/isaacgyminsertion/outputs/debug/init_grasps_plug2in_loose1mm_new/*.npz')"
   ]
  },
  {
   "cell_type": "code",
   "execution_count": 10,
   "id": "f155082b-9909-4457-a02d-0792b123ab36",
   "metadata": {},
   "outputs": [],
   "source": [
    "total_grasps = 0\n",
    "for i in data_folder:\n",
    "    data = np.load(i)\n",
    "    num_grasps = data['socket_pos'].shape[0]\n",
    "    total_grasps += num_grasps"
   ]
  },
  {
   "cell_type": "code",
   "execution_count": 20,
   "id": "102c1b76-fdca-4494-b46e-13c1ca643b70",
   "metadata": {},
   "outputs": [],
   "source": [
    "socket_pos = np.zeros((total_grasps, 3))\n",
    "socket_quat = np.zeros((total_grasps, 4))\n",
    "plug_pos = np.zeros((total_grasps, 3))\n",
    "plug_quat = np.zeros((total_grasps, 4))\n",
    "dof_pos = np.zeros((total_grasps, 15))"
   ]
  },
  {
   "cell_type": "code",
   "execution_count": 21,
   "id": "6fe512b8-47a8-48ec-9d27-88eec6840feb",
   "metadata": {},
   "outputs": [],
   "source": [
    "last_ptr = 0\n",
    "for i in data_folder:\n",
    "    data = np.load(i)\n",
    "    num_grasps = data['socket_pos'].shape[0]\n",
    "    # print(data['socket_pos'].shape, np.squeeze(data['socket_pos'], axis=1).shape)\n",
    "    socket_pos[last_ptr: last_ptr+num_grasps] = np.squeeze(data['socket_pos'], axis=1)\n",
    "    socket_quat[last_ptr: last_ptr+num_grasps] = np.squeeze(data['socket_quat'], axis=1)\n",
    "    plug_pos[last_ptr: last_ptr+num_grasps] = np.squeeze(data['plug_pos'], axis=1)\n",
    "    plug_quat[last_ptr: last_ptr+num_grasps] = np.squeeze(data['plug_quat'], axis=1)\n",
    "    dof_pos[last_ptr: last_ptr+num_grasps] = np.squeeze(data['dof_pos'], axis=1)\n",
    "    last_ptr += num_grasps"
   ]
  },
  {
   "cell_type": "code",
   "execution_count": 26,
   "id": "83167a0a-7f58-4734-868a-69dcc82195fa",
   "metadata": {},
   "outputs": [],
   "source": [
    "final_grasps_folder = 'initial_grasp_data'\n",
    "np.savez_compressed('init_grasps_plug2in_loose1mm_new.npz', socket_pos=socket_pos, socket_quat=socket_quat, plug_pos=plug_pos, plug_quat=plug_quat, dof_pos=dof_pos)"
   ]
  },
  {
   "cell_type": "code",
   "execution_count": null,
   "id": "0d49988a-0504-49e2-9bc1-0ac4290a8a1f",
   "metadata": {},
   "outputs": [],
   "source": []
  }
 ],
 "metadata": {
  "kernelspec": {
   "display_name": "Python 3 (ipykernel)",
   "language": "python",
   "name": "python3"
  },
  "language_info": {
   "codemirror_mode": {
    "name": "ipython",
    "version": 3
   },
   "file_extension": ".py",
   "mimetype": "text/x-python",
   "name": "python",
   "nbconvert_exporter": "python",
   "pygments_lexer": "ipython3",
   "version": "3.8.13"
  }
 },
 "nbformat": 4,
 "nbformat_minor": 5
}
